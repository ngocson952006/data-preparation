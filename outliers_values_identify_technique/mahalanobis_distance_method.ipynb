{
 "cells": [
  {
   "cell_type": "code",
   "id": "initial_id",
   "metadata": {
    "collapsed": true,
    "ExecuteTime": {
     "end_time": "2025-07-27T04:49:36.995477Z",
     "start_time": "2025-07-27T04:49:25.143507Z"
    }
   },
   "source": [
    "import pandas as pd\n",
    "from sklearn.covariance import EllipticEnvelope\n",
    "import os"
   ],
   "outputs": [],
   "execution_count": 2
  },
  {
   "metadata": {
    "ExecuteTime": {
     "end_time": "2025-07-27T04:49:37.006542Z",
     "start_time": "2025-07-27T04:49:37.001881Z"
    }
   },
   "cell_type": "code",
   "source": [
    "FILE_PATH = os.path.join(os.getcwd(), \"../data-files\", \"titanic-passengers.csv\")\n",
    "DF = pd.read_csv(FILE_PATH)"
   ],
   "id": "d6155e295f4da22c",
   "outputs": [],
   "execution_count": 3
  },
  {
   "metadata": {},
   "cell_type": "markdown",
   "source": "Use Mahalanobis Distance for Outliers Detection",
   "id": "c9ee92109a32a4e6"
  },
  {
   "metadata": {
    "ExecuteTime": {
     "end_time": "2025-07-27T04:49:37.019623Z",
     "start_time": "2025-07-27T04:49:37.017394Z"
    }
   },
   "cell_type": "code",
   "source": [
    "def mahalanobis_distance(df, col_name):\n",
    "    distribute = df[col_name].dropna()\n",
    "    X = distribute.values.reshape(-1, 1) # Reshape data for sckit-learn\n",
    "    outliers_detector = EllipticEnvelope(contamination=0.1,\n",
    "                                         random_state=42) # we use 10% data as outliers\n",
    "    outliers_detector.fit(X) # fit the model\n",
    "    outliers_labels = outliers_detector.predict(X)\n",
    "    mahalanobis_outliers = distribute[outliers_labels == -1] # identify outliers\n",
    "    print(f\"Number of outliers: {len(mahalanobis_outliers)}\")\n",
    "    print(f\"Outliers: {\", \".join(map(str, mahalanobis_outliers.values))}\")"
   ],
   "id": "bc158138fed53c",
   "outputs": [],
   "execution_count": 4
  },
  {
   "metadata": {},
   "cell_type": "markdown",
   "source": "Entry point",
   "id": "75974b900c3c95e9"
  },
  {
   "metadata": {
    "ExecuteTime": {
     "end_time": "2025-07-27T04:49:37.033154Z",
     "start_time": "2025-07-27T04:49:37.027700Z"
    }
   },
   "cell_type": "code",
   "source": [
    "if __name__ == \"__main__\":\n",
    "    mahalanobis_distance(DF, \"Age\")"
   ],
   "id": "5d705ebf7429b5c3",
   "outputs": [
    {
     "name": "stdout",
     "output_type": "stream",
     "text": [
      "Number of outliers: 65\n",
      "Outliers: 54.0, 58.0, 55.0, 66.0, 65.0, 0.83, 59.0, 71.0, 70.5, 54.0, 55.5, 1.0, 61.0, 1.0, 56.0, 1.0, 58.0, 59.0, 54.0, 62.0, 58.0, 63.0, 65.0, 0.92, 54.0, 61.0, 60.0, 1.0, 1.0, 64.0, 65.0, 56.0, 0.75, 63.0, 58.0, 55.0, 71.0, 54.0, 54.0, 64.0, 62.0, 62.0, 53.0, 54.0, 60.0, 61.0, 57.0, 80.0, 0.75, 56.0, 58.0, 70.0, 60.0, 60.0, 70.0, 0.67, 57.0, 54.0, 1.0, 0.42, 1.0, 62.0, 0.83, 74.0, 56.0\n"
     ]
    }
   ],
   "execution_count": 5
  }
 ],
 "metadata": {
  "kernelspec": {
   "display_name": "Python 3",
   "language": "python",
   "name": "python3"
  },
  "language_info": {
   "codemirror_mode": {
    "name": "ipython",
    "version": 2
   },
   "file_extension": ".py",
   "mimetype": "text/x-python",
   "name": "python",
   "nbconvert_exporter": "python",
   "pygments_lexer": "ipython2",
   "version": "2.7.6"
  }
 },
 "nbformat": 4,
 "nbformat_minor": 5
}
