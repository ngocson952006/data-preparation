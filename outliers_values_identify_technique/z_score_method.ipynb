{
 "cells": [
  {
   "cell_type": "code",
   "id": "initial_id",
   "metadata": {
    "collapsed": true,
    "ExecuteTime": {
     "end_time": "2025-07-27T04:49:51.422190Z",
     "start_time": "2025-07-27T04:49:51.419507Z"
    }
   },
   "source": [
    "from importlib.metadata import distribution\n",
    "\n",
    "import pandas as pd\n",
    "from scipy import stats\n",
    "import numpy as np\n",
    "import os"
   ],
   "outputs": [],
   "execution_count": 15
  },
  {
   "metadata": {
    "ExecuteTime": {
     "end_time": "2025-07-27T04:49:51.442894Z",
     "start_time": "2025-07-27T04:49:51.438221Z"
    }
   },
   "cell_type": "code",
   "source": [
    "FILE_PATH = os.path.join(os.getcwd(), \"../data-files\", \"titanic-passengers.csv\")\n",
    "DF = pd.read_csv(FILE_PATH)\n",
    "Z_SCORE_THRESHOLD = 3\n",
    "SHAPIRO_WILK_THRESHOLD = 0.05"
   ],
   "id": "1d726c81dafc1514",
   "outputs": [],
   "execution_count": 16
  },
  {
   "metadata": {},
   "cell_type": "markdown",
   "source": "Use Shapio Wilk method to assess the normality of distribition",
   "id": "b2903cc0429eae1b"
  },
  {
   "metadata": {
    "ExecuteTime": {
     "end_time": "2025-07-27T04:49:51.456997Z",
     "start_time": "2025-07-27T04:49:51.454628Z"
    }
   },
   "cell_type": "code",
   "source": [
    "def shapiro_wilk_method(df, column):\n",
    "    distribute = df[column].dropna()\n",
    "    statistic, p_value = stats.shapiro(distribute)\n",
    "    print(\"Shapiro-Wilk test result: \")\n",
    "    print(f\"Statistic: {statistic: .6f}\")\n",
    "    print(f\"p-value: {p_value: .6f}\")\n",
    "    if p_value <= SHAPIRO_WILK_THRESHOLD:\n",
    "        print(\"The distribution is NOT normal.\")\n",
    "    else:\n",
    "        print(\"The distribution is normal.\")\n"
   ],
   "id": "55d91b66ed3db8dc",
   "outputs": [],
   "execution_count": 17
  },
  {
   "metadata": {},
   "cell_type": "markdown",
   "source": "Use Z-Score Method for Outliers Identify",
   "id": "115b302170786b6d"
  },
  {
   "metadata": {
    "ExecuteTime": {
     "end_time": "2025-07-27T04:49:51.470553Z",
     "start_time": "2025-07-27T04:49:51.468520Z"
    }
   },
   "cell_type": "code",
   "source": [
    "def z_score_method(df):\n",
    "    distribute = df[\"Age\"].dropna()\n",
    "    z_score = np.abs(stats.zscore(distribute))\n",
    "    outliers = distribute[z_score > Z_SCORE_THRESHOLD]\n",
    "    print(f\"Number of outliers: {len(outliers)}\")\n",
    "    print(f\"Outliers values: {\", \".join(map(str, outliers.values))}\")"
   ],
   "id": "8bf7c352d4eeb097",
   "outputs": [],
   "execution_count": 18
  },
  {
   "metadata": {},
   "cell_type": "markdown",
   "source": "Entry Point",
   "id": "79024580d9e9a233"
  },
  {
   "metadata": {
    "ExecuteTime": {
     "end_time": "2025-07-27T04:49:51.482451Z",
     "start_time": "2025-07-27T04:49:51.478727Z"
    }
   },
   "cell_type": "code",
   "source": [
    "if __name__ == \"__main__\":\n",
    "    shapiro_wilk_method(DF, \"Age\")\n",
    "    z_score_method(DF)"
   ],
   "id": "6bd87188a40373f4",
   "outputs": [
    {
     "name": "stdout",
     "output_type": "stream",
     "text": [
      "Shapiro-Wilk test result: \n",
      "Statistic:  0.981458\n",
      "p-value:  0.000000\n",
      "The distribution is NOT normal.\n",
      "Number of outliers: 2\n",
      "Outliers values: 80.0, 74.0\n"
     ]
    }
   ],
   "execution_count": 19
  }
 ],
 "metadata": {
  "kernelspec": {
   "display_name": "Python 3",
   "language": "python",
   "name": "python3"
  },
  "language_info": {
   "codemirror_mode": {
    "name": "ipython",
    "version": 2
   },
   "file_extension": ".py",
   "mimetype": "text/x-python",
   "name": "python",
   "nbconvert_exporter": "python",
   "pygments_lexer": "ipython2",
   "version": "2.7.6"
  }
 },
 "nbformat": 4,
 "nbformat_minor": 5
}
