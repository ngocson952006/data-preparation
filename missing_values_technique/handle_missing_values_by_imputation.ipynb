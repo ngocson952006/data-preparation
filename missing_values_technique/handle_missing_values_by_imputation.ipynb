{
 "cells": [
  {
   "cell_type": "code",
   "id": "initial_id",
   "metadata": {
    "collapsed": true,
    "ExecuteTime": {
     "end_time": "2025-07-20T02:39:41.707395Z",
     "start_time": "2025-07-20T02:39:41.433570Z"
    }
   },
   "source": [
    "import pandas as pd\n",
    "import os\n",
    "FILE_PATH = os.path.join(os.getcwd(), \"../data-files\", \"titanic-passengers.csv\")\n",
    "DF = pd.read_csv(FILE_PATH)"
   ],
   "outputs": [],
   "execution_count": 1
  },
  {
   "metadata": {},
   "cell_type": "markdown",
   "source": "Analyze missing values",
   "id": "f0cb41a50c3cae63"
  },
  {
   "metadata": {
    "ExecuteTime": {
     "end_time": "2025-07-20T02:39:41.770737Z",
     "start_time": "2025-07-20T02:39:41.767402Z"
    }
   },
   "cell_type": "code",
   "source": [
    "def analyze_missing_values(df):\n",
    "    missing_values = df.isnull().sum() / len(df) * 100\n",
    "    print(missing_values.apply(lambda x: \"%.2f%%\" % x).sort_values(ascending=False))\n",
    "\n",
    "analyze_missing_values(DF)"
   ],
   "id": "6480739d5c0b26d9",
   "outputs": [
    {
     "name": "stdout",
     "output_type": "stream",
     "text": [
      "Cabin          77.10%\n",
      "Age            19.87%\n",
      "Embarked        0.22%\n",
      "PassengerId     0.00%\n",
      "Survived        0.00%\n",
      "Pclass          0.00%\n",
      "Name            0.00%\n",
      "Sex             0.00%\n",
      "SibSp           0.00%\n",
      "Parch           0.00%\n",
      "Ticket          0.00%\n",
      "Fare            0.00%\n",
      "dtype: object\n"
     ]
    }
   ],
   "execution_count": 2
  },
  {
   "metadata": {},
   "cell_type": "markdown",
   "source": "Simple imputation values by using mean of a variable",
   "id": "e5228977fd92542f"
  },
  {
   "metadata": {
    "ExecuteTime": {
     "end_time": "2025-07-20T02:39:41.850233Z",
     "start_time": "2025-07-20T02:39:41.845271Z"
    }
   },
   "cell_type": "code",
   "source": [
    "def impute_mean(df):\n",
    "    # Choose Age column, for example\n",
    "    clone_df = df.copy()\n",
    "    age_mean = clone_df['Age'].mean()\n",
    "    clone_df['Age'].fillna(age_mean, inplace=True)\n",
    "    print(clone_df[clone_df['PassengerId'] == 889])\n",
    "impute_mean(DF)"
   ],
   "id": "c8755b921e8a4801",
   "outputs": [
    {
     "name": "stdout",
     "output_type": "stream",
     "text": [
      "     PassengerId  Survived  Pclass                                      Name  \\\n",
      "888          889         0       3  Johnston, Miss. Catherine Helen \"Carrie\"   \n",
      "\n",
      "        Sex        Age  SibSp  Parch      Ticket   Fare Cabin Embarked  \n",
      "888  female  29.699118      1      2  W./C. 6607  23.45   NaN        S  \n"
     ]
    },
    {
     "name": "stderr",
     "output_type": "stream",
     "text": [
      "/var/folders/97/835pt_fd54749hk3wzm_wv2w0000gn/T/ipykernel_55776/2452797122.py:5: FutureWarning: A value is trying to be set on a copy of a DataFrame or Series through chained assignment using an inplace method.\n",
      "The behavior will change in pandas 3.0. This inplace method will never work because the intermediate object on which we are setting values always behaves as a copy.\n",
      "\n",
      "For example, when doing 'df[col].method(value, inplace=True)', try using 'df.method({col: value}, inplace=True)' or df[col] = df[col].method(value) instead, to perform the operation inplace on the original object.\n",
      "\n",
      "\n",
      "  clone_df['Age'].fillna(age_mean, inplace=True)\n"
     ]
    }
   ],
   "execution_count": 3
  },
  {
   "metadata": {},
   "cell_type": "markdown",
   "source": "Create simple imputation for DF",
   "id": "fd3c6007dbeff18f"
  },
  {
   "metadata": {
    "ExecuteTime": {
     "end_time": "2025-07-20T02:39:41.867779Z",
     "start_time": "2025-07-20T02:39:41.862488Z"
    }
   },
   "cell_type": "code",
   "source": [
    "def simple_forward_backward_impute(df):\n",
    "    clone_df = df.copy()\n",
    "    clone_df['age_ffill'] = df['Age'].fillna(method='ffill')\n",
    "    clone_df['age_bfill'] = df['Age'].fillna(method='bfill')\n",
    "    print(clone_df[clone_df['PassengerId'] == 889])\n",
    "\n",
    "simple_forward_backward_impute(DF)"
   ],
   "id": "56546ffa749fc761",
   "outputs": [
    {
     "name": "stdout",
     "output_type": "stream",
     "text": [
      "     PassengerId  Survived  Pclass                                      Name  \\\n",
      "888          889         0       3  Johnston, Miss. Catherine Helen \"Carrie\"   \n",
      "\n",
      "        Sex  Age  SibSp  Parch      Ticket   Fare Cabin Embarked  age_ffill  \\\n",
      "888  female  NaN      1      2  W./C. 6607  23.45   NaN        S       19.0   \n",
      "\n",
      "     age_bfill  \n",
      "888       26.0  \n"
     ]
    },
    {
     "name": "stderr",
     "output_type": "stream",
     "text": [
      "/var/folders/97/835pt_fd54749hk3wzm_wv2w0000gn/T/ipykernel_55776/3711637678.py:3: FutureWarning: Series.fillna with 'method' is deprecated and will raise in a future version. Use obj.ffill() or obj.bfill() instead.\n",
      "  clone_df['age_ffill'] = df['Age'].fillna(method='ffill')\n",
      "/var/folders/97/835pt_fd54749hk3wzm_wv2w0000gn/T/ipykernel_55776/3711637678.py:4: FutureWarning: Series.fillna with 'method' is deprecated and will raise in a future version. Use obj.ffill() or obj.bfill() instead.\n",
      "  clone_df['age_bfill'] = df['Age'].fillna(method='bfill')\n"
     ]
    }
   ],
   "execution_count": 4
  },
  {
   "metadata": {},
   "cell_type": "markdown",
   "source": "Use Interpolation for handling missing values",
   "id": "ea52962bab6210d2"
  },
  {
   "metadata": {
    "ExecuteTime": {
     "end_time": "2025-07-20T02:39:41.896601Z",
     "start_time": "2025-07-20T02:39:41.890544Z"
    }
   },
   "cell_type": "code",
   "source": [
    "def interpolate_values(df):\n",
    "    clone_df = df.copy()\n",
    "    clone_df = clone_df.interpolate(method='linear', limit_direction='forward')\n",
    "    print(clone_df[clone_df['PassengerId'] == 889])\n",
    "interpolate_values(DF)"
   ],
   "id": "b1b643e6b0290af2",
   "outputs": [
    {
     "name": "stdout",
     "output_type": "stream",
     "text": [
      "     PassengerId  Survived  Pclass                                      Name  \\\n",
      "888          889         0       3  Johnston, Miss. Catherine Helen \"Carrie\"   \n",
      "\n",
      "        Sex   Age  SibSp  Parch      Ticket   Fare Cabin Embarked  \n",
      "888  female  22.5      1      2  W./C. 6607  23.45   NaN        S  \n"
     ]
    },
    {
     "name": "stderr",
     "output_type": "stream",
     "text": [
      "/var/folders/97/835pt_fd54749hk3wzm_wv2w0000gn/T/ipykernel_55776/2242044735.py:3: FutureWarning: DataFrame.interpolate with object dtype is deprecated and will raise in a future version. Call obj.infer_objects(copy=False) before interpolating instead.\n",
      "  clone_df = clone_df.interpolate(method='linear', limit_direction='forward')\n"
     ]
    }
   ],
   "execution_count": 5
  }
 ],
 "metadata": {
  "kernelspec": {
   "display_name": "Python 3",
   "language": "python",
   "name": "python3"
  },
  "language_info": {
   "codemirror_mode": {
    "name": "ipython",
    "version": 2
   },
   "file_extension": ".py",
   "mimetype": "text/x-python",
   "name": "python",
   "nbconvert_exporter": "python",
   "pygments_lexer": "ipython2",
   "version": "2.7.6"
  }
 },
 "nbformat": 4,
 "nbformat_minor": 5
}
