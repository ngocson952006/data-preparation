{
 "cells": [
  {
   "cell_type": "code",
   "id": "initial_id",
   "metadata": {
    "collapsed": true,
    "ExecuteTime": {
     "end_time": "2025-07-20T03:18:33.554550Z",
     "start_time": "2025-07-20T03:18:33.545001Z"
    }
   },
   "source": [
    "import pandas as pd\n",
    "from sklearn.experimental import enable_iterative_imputer\n",
    "from sklearn.impute import IterativeImputer\n",
    "from sklearn.impute import KNNImputer\n",
    "import os\n",
    "FILE_PATH = os.path.join(os.getcwd(), \"../data-files\", \"titanic-passengers.csv\")\n",
    "DF = pd.read_csv(FILE_PATH)"
   ],
   "outputs": [],
   "execution_count": 16
  },
  {
   "metadata": {},
   "cell_type": "markdown",
   "source": "Use MICE to impute values",
   "id": "d476e241a2ff39a9"
  },
  {
   "metadata": {
    "ExecuteTime": {
     "end_time": "2025-07-20T03:18:33.580685Z",
     "start_time": "2025-07-20T03:18:33.566044Z"
    }
   },
   "cell_type": "code",
   "source": [
    "def mice_impute(df):\n",
    "    clone_df = df.copy()\n",
    "    columns_for_imputation = ['Age', 'SibSp', 'Parch', 'Fare']\n",
    "    subset_df = clone_df[columns_for_imputation]\n",
    "    # Use linear interpolation for data imputation\n",
    "    impute = IterativeImputer()\n",
    "    # Perform imputation\n",
    "    impute_df = impute.fit_transform(subset_df)\n",
    "    # assign back to dataframe\n",
    "    clone_df[columns_for_imputation] = impute_df\n",
    "    print(clone_df[clone_df[\"PassengerId\"] == 889])\n",
    "mice_impute(DF)"
   ],
   "id": "aa11ab18efd3b3a5",
   "outputs": [
    {
     "name": "stdout",
     "output_type": "stream",
     "text": [
      "     PassengerId  Survived  Pclass                                      Name  \\\n",
      "888          889         0       3  Johnston, Miss. Catherine Helen \"Carrie\"   \n",
      "\n",
      "        Sex       Age  SibSp  Parch      Ticket   Fare Cabin Embarked  \n",
      "888  female  24.17135    1.0    2.0  W./C. 6607  23.45   NaN        S  \n"
     ]
    }
   ],
   "execution_count": 17
  },
  {
   "metadata": {},
   "cell_type": "markdown",
   "source": "Use K-nearest neighbor to impute missing values",
   "id": "73b800bfde8fc564"
  },
  {
   "metadata": {
    "ExecuteTime": {
     "end_time": "2025-07-20T03:18:38.309279Z",
     "start_time": "2025-07-20T03:18:38.290340Z"
    }
   },
   "cell_type": "code",
   "source": [
    "def knn_impute(df):\n",
    "    clone_df = df.copy()\n",
    "    imputer = KNNImputer(n_neighbors=3)\n",
    "    # Choose column Age for imputation\n",
    "    clone_df['Age'] = imputer.fit_transform(clone_df[['Age']])\n",
    "    print(clone_df[clone_df[\"PassengerId\"] == 889])\n",
    "\n",
    "knn_impute(DF)"
   ],
   "id": "55ddadb4df39fd9a",
   "outputs": [
    {
     "name": "stdout",
     "output_type": "stream",
     "text": [
      "     PassengerId  Survived  Pclass                                      Name  \\\n",
      "888          889         0       3  Johnston, Miss. Catherine Helen \"Carrie\"   \n",
      "\n",
      "        Sex        Age  SibSp  Parch      Ticket   Fare Cabin Embarked  \n",
      "888  female  29.699118      1      2  W./C. 6607  23.45   NaN        S  \n"
     ]
    }
   ],
   "execution_count": 19
  }
 ],
 "metadata": {
  "kernelspec": {
   "display_name": "Python 3",
   "language": "python",
   "name": "python3"
  },
  "language_info": {
   "codemirror_mode": {
    "name": "ipython",
    "version": 2
   },
   "file_extension": ".py",
   "mimetype": "text/x-python",
   "name": "python",
   "nbconvert_exporter": "python",
   "pygments_lexer": "ipython2",
   "version": "2.7.6"
  }
 },
 "nbformat": 4,
 "nbformat_minor": 5
}
